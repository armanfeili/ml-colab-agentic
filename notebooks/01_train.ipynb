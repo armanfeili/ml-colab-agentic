{
 "cells": [
  {
   "cell_type": "markdown",
   "id": "f2d6d87a",
   "metadata": {},
   "source": [
    "# Colab-First Minimal Trainer\n",
    "\n",
    "This notebook trains a simple CNN on CIFAR-10 in Google Colab with GPU acceleration."
   ]
  },
  {
   "cell_type": "markdown",
   "id": "86d9e8d3",
   "metadata": {},
   "source": [
    "## Section A: Setup & Mount"
   ]
  },
  {
   "cell_type": "code",
   "execution_count": null,
   "id": "275deabe",
   "metadata": {},
   "outputs": [],
   "source": [
    "# Check GPU availability\n",
    "!nvidia-smi"
   ]
  },
  {
   "cell_type": "code",
   "execution_count": null,
   "id": "dbdae10b",
   "metadata": {},
   "outputs": [],
   "source": [
    "# Clone/update the repo into /content/\n",
    "import os\n",
    "import subprocess\n",
    "\n",
    "REPO_PATH = '/content/ml-colab-agentic'\n",
    "REPO_URL = 'https://github.com/armanfeili/ml-colab-agentic.git'\n",
    "\n",
    "if os.path.exists(REPO_PATH):\n",
    "    print(f\"{REPO_PATH} already exists. Updating...\")\n",
    "    subprocess.run(['git', '-C', REPO_PATH, 'pull'], check=True)\n",
    "else:\n",
    "    print(f\"Cloning {REPO_URL}...\")\n",
    "    subprocess.run(['git', 'clone', REPO_URL, REPO_PATH], check=True)\n",
    "\n",
    "print(f\"Repository ready at {REPO_PATH}\")"
   ]
  },
  {
   "cell_type": "code",
   "execution_count": null,
   "id": "725e72bd",
   "metadata": {},
   "outputs": [],
   "source": [
    "# Mount Google Drive (optional but recommended)\n",
    "from google.colab import drive\n",
    "\n",
    "drive.mount('/content/drive')\n",
    "print(\"Google Drive mounted at /content/drive\")"
   ]
  },
  {
   "cell_type": "code",
   "execution_count": null,
   "id": "4b9ccb9e",
   "metadata": {},
   "outputs": [],
   "source": [
    "# Install dependencies from requirements.txt\n",
    "!pip install -q -r /content/ml-colab-agentic/requirements.txt\n",
    "print(\"Dependencies installed.\")"
   ]
  },
  {
   "cell_type": "code",
   "execution_count": null,
   "id": "ba878304",
   "metadata": {},
   "outputs": [],
   "source": [
    "# Add repo to path and verify imports\n",
    "import sys\n",
    "sys.path.insert(0, REPO_PATH)\n",
    "\n",
    "from src.utils import (\n",
    "    set_seed,\n",
    "    get_device,\n",
    "    prepare_dataloaders_cifar10,\n",
    "    SimpleNet,\n",
    "    train_one_epoch,\n",
    "    evaluate,\n",
    "    save_checkpoint,\n",
    "    append_metrics_csv,\n",
    ")\n",
    "import torch\n",
    "import torch.optim as optim\n",
    "\n",
    "print(\"✅ All imports successful!\")"
   ]
  },
  {
   "cell_type": "markdown",
   "id": "893679a9",
   "metadata": {},
   "source": [
    "## Section B: Config"
   ]
  },
  {
   "cell_type": "code",
   "execution_count": null,
   "id": "e2bfb9be",
   "metadata": {},
   "outputs": [],
   "source": [
    "# Configuration\n",
    "CFG = {\n",
    "    \"seed\": 42,\n",
    "    \"epochs\": 5,\n",
    "    \"batch_size\": 128,\n",
    "    \"lr\": 1e-3,\n",
    "    \"num_workers\": 2,\n",
    "    \"dataset\": \"CIFAR10\",\n",
    "    \"data_root\": \"/content/data\",\n",
    "    \"save_to_drive\": True,\n",
    "    \"drive_dir\": \"/content/drive/MyDrive/ml-outputs\",\n",
    "}\n",
    "\n",
    "print(\"Config:\")\n",
    "for key, val in CFG.items():\n",
    "    print(f\"  {key}: {val}\")"
   ]
  },
  {
   "cell_type": "markdown",
   "id": "eb334de7",
   "metadata": {},
   "source": [
    "## Section C: Train"
   ]
  },
  {
   "cell_type": "code",
   "execution_count": null,
   "id": "71446a50",
   "metadata": {},
   "outputs": [],
   "source": [
    "# Set seed and device\n",
    "set_seed(CFG[\"seed\"])\n",
    "device = get_device()\n",
    "print(f\"Device: {device}\")\n",
    "print(f\"CUDA available: {torch.cuda.is_available()}\")"
   ]
  },
  {
   "cell_type": "code",
   "execution_count": null,
   "id": "5a4c40ce",
   "metadata": {},
   "outputs": [],
   "source": [
    "# Prepare dataloaders\n",
    "print(f\"Loading {CFG['dataset']} from {CFG['data_root']}...\")\n",
    "train_dl, test_dl = prepare_dataloaders_cifar10(\n",
    "    root=CFG[\"data_root\"],\n",
    "    batch_size=CFG[\"batch_size\"],\n",
    "    num_workers=CFG[\"num_workers\"],\n",
    ")\n",
    "print(f\"✅ Train batches: {len(train_dl)}, Test batches: {len(test_dl)}\")"
   ]
  },
  {
   "cell_type": "code",
   "execution_count": null,
   "id": "75b0805e",
   "metadata": {},
   "outputs": [],
   "source": [
    "# Initialize model, optimizer, and paths\n",
    "model = SimpleNet(num_classes=10).to(device)\n",
    "opt = optim.Adam(model.parameters(), lr=CFG[\"lr\"])\n",
    "\n",
    "metrics_path = f\"{REPO_PATH}/outputs/metrics.csv\"\n",
    "checkpoint_path = f\"{REPO_PATH}/checkpoints/last.pt\"\n",
    "\n",
    "print(f\"Model initialized on {device}\")\n",
    "print(f\"Metrics will be saved to: {metrics_path}\")\n",
    "print(f\"Checkpoint will be saved to: {checkpoint_path}\")"
   ]
  },
  {
   "cell_type": "code",
   "execution_count": null,
   "id": "04ec6f3c",
   "metadata": {},
   "outputs": [],
   "source": [
    "# Training loop\n",
    "from tqdm import tqdm\n",
    "\n",
    "all_metrics = []\n",
    "\n",
    "print(f\"\\nTraining for {CFG['epochs']} epochs...\\n\")\n",
    "for epoch in range(CFG[\"epochs\"]):\n",
    "    # Train\n",
    "    train_loss, train_acc = train_one_epoch(model, train_dl, opt, device)\n",
    "    \n",
    "    # Evaluate\n",
    "    val_loss, val_acc = evaluate(model, test_dl, device)\n",
    "    \n",
    "    # Save checkpoint\n",
    "    save_checkpoint(model, checkpoint_path)\n",
    "    \n",
    "    # Append metrics\n",
    "    all_metrics.append((epoch + 1, train_loss, train_acc, val_loss, val_acc))\n",
    "    append_metrics_csv(metrics_path, [(epoch + 1, train_loss, train_acc, val_loss, val_acc)])\n",
    "    \n",
    "    print(\n",
    "        f\"Epoch {epoch+1}/{CFG['epochs']} | \"\n",
    "        f\"Train Loss: {train_loss:.4f}, Train Acc: {train_acc:.4f} | \"\n",
    "        f\"Val Loss: {val_loss:.4f}, Val Acc: {val_acc:.4f}\"\n",
    "    )\n",
    "\n",
    "print(f\"\\n✅ Training complete!\")"
   ]
  },
  {
   "cell_type": "markdown",
   "id": "1a7ff8fd",
   "metadata": {},
   "source": [
    "## Section D: Save Artifacts"
   ]
  },
  {
   "cell_type": "code",
   "execution_count": null,
   "id": "32a1c199",
   "metadata": {},
   "outputs": [],
   "source": [
    "# Show saved files\n",
    "import os\n",
    "\n",
    "print(\"Outputs:\")\n",
    "outputs_dir = f\"{REPO_PATH}/outputs\"\n",
    "if os.path.exists(outputs_dir):\n",
    "    for f in os.listdir(outputs_dir):\n",
    "        fpath = os.path.join(outputs_dir, f)\n",
    "        size = os.path.getsize(fpath) / (1024 * 1024)  # MB\n",
    "        print(f\"  {f} ({size:.2f} MB)\")\n",
    "else:\n",
    "    print(\"  (none)\")\n",
    "\n",
    "print(\"\\nCheckpoints:\")\n",
    "checkpoints_dir = f\"{REPO_PATH}/checkpoints\"\n",
    "if os.path.exists(checkpoints_dir):\n",
    "    for f in os.listdir(checkpoints_dir):\n",
    "        fpath = os.path.join(checkpoints_dir, f)\n",
    "        size = os.path.getsize(fpath) / (1024 * 1024)  # MB\n",
    "        print(f\"  {f} ({size:.2f} MB)\")\n",
    "else:\n",
    "    print(\"  (none)\")"
   ]
  },
  {
   "cell_type": "code",
   "execution_count": null,
   "id": "a36510d1",
   "metadata": {},
   "outputs": [],
   "source": [
    "# Copy artifacts to Google Drive (if enabled)\n",
    "if CFG[\"save_to_drive\"]:\n",
    "    import shutil\n",
    "    from pathlib import Path\n",
    "    \n",
    "    drive_dir = Path(CFG[\"drive_dir\"])\n",
    "    drive_dir.mkdir(parents=True, exist_ok=True)\n",
    "    \n",
    "    # Copy metrics\n",
    "    if os.path.exists(metrics_path):\n",
    "        shutil.copy(metrics_path, drive_dir / \"metrics.csv\")\n",
    "        print(f\"✅ Copied metrics to {drive_dir / 'metrics.csv'}\")\n",
    "    \n",
    "    # Copy checkpoint\n",
    "    if os.path.exists(checkpoint_path):\n",
    "        shutil.copy(checkpoint_path, drive_dir / \"last.pt\")\n",
    "        print(f\"✅ Copied checkpoint to {drive_dir / 'last.pt'}\")\n",
    "    \n",
    "    print(f\"\\n📁 All artifacts saved to Drive: {CFG['drive_dir']}\")\n",
    "else:\n",
    "    print(f\"📁 Artifacts saved locally in repo: {REPO_PATH}\")"
   ]
  },
  {
   "cell_type": "code",
   "execution_count": null,
   "id": "5b815658",
   "metadata": {},
   "outputs": [],
   "source": [
    "# Optional: Display metrics table\n",
    "import pandas as pd\n",
    "\n",
    "if os.path.exists(metrics_path):\n",
    "    df = pd.read_csv(metrics_path)\n",
    "    print(\"Training Metrics:\")\n",
    "    print(df.to_string(index=False))\n",
    "else:\n",
    "    print(\"No metrics file found.\")"
   ]
  },
  {
   "cell_type": "markdown",
   "id": "260cbb7e",
   "metadata": {},
   "source": [
    "# ML Training Notebook\n",
    "\n",
    "This notebook is designed to run on **Google Colab** with a **GPU runtime** (T4, A100, etc.).\n",
    "\n",
    "## Quick setup\n",
    "1. Go to **Runtime → Change runtime type → GPU**\n",
    "2. Run the cells below in order\n",
    "3. Monitor GPU usage with `!nvidia-smi`"
   ]
  },
  {
   "cell_type": "markdown",
   "id": "e30f0bf5",
   "metadata": {},
   "source": [
    "## Cell 1: Check GPU"
   ]
  },
  {
   "cell_type": "code",
   "execution_count": null,
   "id": "3b2c8055",
   "metadata": {},
   "outputs": [],
   "source": [
    "!nvidia-smi"
   ]
  },
  {
   "cell_type": "markdown",
   "id": "4a526bc8",
   "metadata": {},
   "source": [
    "## Cell 2: Install dependencies from repo"
   ]
  },
  {
   "cell_type": "code",
   "execution_count": null,
   "id": "854d8e71",
   "metadata": {},
   "outputs": [],
   "source": [
    "!pip -q install -r https://raw.githubusercontent.com/armanfeili/ml-colab-agentic/main/requirements.txt"
   ]
  },
  {
   "cell_type": "markdown",
   "id": "ee6fdee4",
   "metadata": {},
   "source": [
    "## Cell 3: Quick sanity check with PyTorch"
   ]
  },
  {
   "cell_type": "code",
   "execution_count": null,
   "id": "0f8accae",
   "metadata": {},
   "outputs": [],
   "source": [
    "import torch\n",
    "\n",
    "from src.utils import set_seed, to_device\n",
    "\n",
    "set_seed(0)\n",
    "device = \"cuda\" if torch.cuda.is_available() else \"cpu\"\n",
    "print(f\"Device: {device}\")\n",
    "\n",
    "x = torch.randn(3, 3)\n",
    "y = to_device(x)\n",
    "print(f\"Tensor device: {y.device}\")\n",
    "\n",
    "# Tiny training loop (toy example)\n",
    "w = torch.randn(3, 3, requires_grad=True, device=device)\n",
    "opt = torch.optim.SGD([w], lr=0.1)\n",
    "\n",
    "for epoch in range(5):\n",
    "    loss = (w @ w.T).mean()\n",
    "    opt.zero_grad()\n",
    "    loss.backward()\n",
    "    opt.step()\n",
    "    print(f\"Epoch {epoch}: loss={float(loss):.4f}\")\n",
    "\n",
    "print(\"\\n✅ Toy training loop completed!\")"
   ]
  },
  {
   "cell_type": "markdown",
   "id": "cc8a9856",
   "metadata": {},
   "source": [
    "## Cell 4: Create outputs folder and write metrics"
   ]
  },
  {
   "cell_type": "code",
   "execution_count": null,
   "id": "fea531b0",
   "metadata": {},
   "outputs": [],
   "source": [
    "import pathlib\n",
    "\n",
    "pathlib.Path(\"outputs\").mkdir(exist_ok=True)\n",
    "\n",
    "with open(\"outputs/metrics.csv\", \"w\") as f:\n",
    "    f.write(\"epoch,loss\\n\")\n",
    "    for i in range(5):\n",
    "        f.write(f\"{i},0.{i}\\n\")\n",
    "\n",
    "print(\"✅ Wrote outputs/metrics.csv\")\n",
    "\n",
    "# List outputs\n",
    "!ls -la outputs/"
   ]
  }
 ],
 "metadata": {
  "language_info": {
   "name": "python"
  }
 },
 "nbformat": 4,
 "nbformat_minor": 5
}
