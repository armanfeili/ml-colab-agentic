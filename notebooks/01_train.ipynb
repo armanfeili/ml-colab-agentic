{
 "cells": [
  {
   "cell_type": "markdown",
   "id": "260cbb7e",
   "metadata": {},
   "source": [
    "# ML Training Notebook\n",
    "\n",
    "This notebook is designed to run on **Google Colab** with a **GPU runtime** (T4, A100, etc.).\n",
    "\n",
    "## Quick setup\n",
    "1. Go to **Runtime → Change runtime type → GPU**\n",
    "2. Run the cells below in order\n",
    "3. Monitor GPU usage with `!nvidia-smi`"
   ]
  },
  {
   "cell_type": "markdown",
   "id": "e30f0bf5",
   "metadata": {},
   "source": [
    "## Cell 1: Check GPU"
   ]
  },
  {
   "cell_type": "code",
   "execution_count": null,
   "id": "3b2c8055",
   "metadata": {},
   "outputs": [],
   "source": [
    "!nvidia-smi"
   ]
  },
  {
   "cell_type": "markdown",
   "id": "4a526bc8",
   "metadata": {},
   "source": [
    "## Cell 2: Install dependencies from repo"
   ]
  },
  {
   "cell_type": "code",
   "execution_count": null,
   "id": "854d8e71",
   "metadata": {},
   "outputs": [],
   "source": [
    "!pip -q install -r https://raw.githubusercontent.com/armanfeili/ml-colab-agentic/main/requirements.txt"
   ]
  },
  {
   "cell_type": "markdown",
   "id": "ee6fdee4",
   "metadata": {},
   "source": [
    "## Cell 3: Quick sanity check with PyTorch"
   ]
  },
  {
   "cell_type": "code",
   "execution_count": null,
   "id": "0f8accae",
   "metadata": {},
   "outputs": [],
   "source": [
    "import torch\n",
    "import torchvision\n",
    "from src.utils import set_seed, to_device\n",
    "\n",
    "set_seed(0)\n",
    "device = \"cuda\" if torch.cuda.is_available() else \"cpu\"\n",
    "print(f\"Device: {device}\")\n",
    "\n",
    "x = torch.randn(3, 3)\n",
    "y = to_device(x)\n",
    "print(f\"Tensor device: {y.device}\")\n",
    "\n",
    "# Tiny training loop (toy example)\n",
    "w = torch.randn(3, 3, requires_grad=True, device=device)\n",
    "opt = torch.optim.SGD([w], lr=0.1)\n",
    "\n",
    "for epoch in range(5):\n",
    "    loss = (w @ w.T).mean()\n",
    "    opt.zero_grad()\n",
    "    loss.backward()\n",
    "    opt.step()\n",
    "    print(f\"Epoch {epoch}: loss={float(loss):.4f}\")\n",
    "\n",
    "print(\"\\n✅ Toy training loop completed!\")"
   ]
  },
  {
   "cell_type": "markdown",
   "id": "cc8a9856",
   "metadata": {},
   "source": [
    "## Cell 4: Create outputs folder and write metrics"
   ]
  },
  {
   "cell_type": "code",
   "execution_count": null,
   "id": "fea531b0",
   "metadata": {},
   "outputs": [],
   "source": [
    "import os\n",
    "import pathlib\n",
    "\n",
    "pathlib.Path(\"outputs\").mkdir(exist_ok=True)\n",
    "\n",
    "with open(\"outputs/metrics.csv\", \"w\") as f:\n",
    "    f.write(\"epoch,loss\\n\")\n",
    "    for i in range(5):\n",
    "        f.write(f\"{i},0.{i}\\n\")\n",
    "\n",
    "print(\"✅ Wrote outputs/metrics.csv\")\n",
    "\n",
    "# List outputs\n",
    "!ls -la outputs/"
   ]
  }
 ],
 "metadata": {
  "language_info": {
   "name": "python"
  }
 },
 "nbformat": 4,
 "nbformat_minor": 5
}
